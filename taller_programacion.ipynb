{
  "nbformat": 4,
  "nbformat_minor": 0,
  "metadata": {
    "colab": {
      "provenance": [],
      "toc_visible": true,
      "authorship_tag": "ABX9TyOzI5Fza7lH6nYZ5jJZRsnq",
      "include_colab_link": true
    },
    "kernelspec": {
      "name": "python3",
      "display_name": "Python 3"
    },
    "language_info": {
      "name": "python"
    }
  },
  "cells": [
    {
      "cell_type": "markdown",
      "metadata": {
        "id": "view-in-github",
        "colab_type": "text"
      },
      "source": [
        "<a href=\"https://colab.research.google.com/github/santiom8/TallerPython/blob/hotfix%2Ffix_implement_unit_test/taller_programacion.ipynb\" target=\"_parent\"><img src=\"https://colab.research.google.com/assets/colab-badge.svg\" alt=\"Open In Colab\"/></a>"
      ]
    },
    {
      "cell_type": "code",
      "execution_count": 63,
      "metadata": {
        "colab": {
          "base_uri": "https://localhost:8080/"
        },
        "id": "AlCgMkqrh8F6",
        "outputId": "ab38167f-970f-4275-9e7b-82c63cc061cc"
      },
      "outputs": [
        {
          "output_type": "stream",
          "name": "stdout",
          "text": [
            "BEFORE ADDING PAGES\n",
            "No.  Name                           Price   Pages  Author               Sold \n",
            "--------------------------------------------------------------------------------\n",
            "1    peppa pig                      100     50     juan gabriel         False\n",
            "2    francisco del sesus            100     60     juan gabriel         False\n",
            "3    el despistado                  100     55     juan gabriel         False\n",
            "4    santiago hermoso               100     65     juan gabriel         False\n",
            "5    peppa pig 2                    100     45     juan gabriel         False\n",
            "6    francisco del sesus 2          100     35     juan gabriel         False\n",
            "7    el despistado 2                100     40     juan gabriel         False\n",
            "8    santiago hermoso 2             100     38     juan gabriel         False\n",
            "9    santiago hermoso la pelicula   100     70     juan gabriel         False\n",
            "//////////////////\n",
            "AFTER ADDING PAGES TO 'peppa pig'\n",
            "No.  Name                           Price   Pages  Author               Sold \n",
            "--------------------------------------------------------------------------------\n",
            "1    peppa pig                      100     1050   juan gabriel         True \n",
            "2    francisco del sesus            100     60     juan gabriel         False\n",
            "3    el despistado                  100     55     juan gabriel         False\n",
            "4    santiago hermoso               100     65     juan gabriel         False\n",
            "5    peppa pig 2                    100     45     juan gabriel         False\n",
            "6    francisco del sesus 2          100     35     juan gabriel         False\n",
            "7    el despistado 2                100     40     juan gabriel         False\n",
            "8    santiago hermoso 2             100     38     juan gabriel         False\n",
            "9    santiago hermoso la pelicula   100     70     juan gabriel         False\n"
          ]
        },
        {
          "output_type": "execute_result",
          "data": {
            "text/plain": [
              "[peppa pig - 1050 pages,\n",
              " francisco del sesus - 60 pages,\n",
              " el despistado - 55 pages,\n",
              " santiago hermoso - 65 pages,\n",
              " peppa pig 2 - 45 pages,\n",
              " francisco del sesus 2 - 35 pages,\n",
              " el despistado 2 - 40 pages,\n",
              " santiago hermoso 2 - 38 pages,\n",
              " santiago hermoso la pelicula - 70 pages]"
            ]
          },
          "metadata": {},
          "execution_count": 63
        }
      ],
      "source": [
        "# link github: https://github.com/santiom8/TallerPython\n",
        "from typing import List\n",
        "import unittest\n",
        "\n",
        "# books application\n",
        "class Book:\n",
        "    def __init__(self, number, name, price, pages, author, isSold):\n",
        "        self.number = number\n",
        "        self.name = name\n",
        "        self.price = price\n",
        "        self.pages = pages\n",
        "        self.author = author\n",
        "        self.isSold = isSold\n",
        "\n",
        "    def __repr__(self):\n",
        "        return f\"{self.name} - {self.pages} pages\"\n",
        "\n",
        "\n",
        "class Library:\n",
        "    def __init__(self, listBooks):\n",
        "        self.listBooks = listBooks\n",
        "\n",
        "    def getList(self):\n",
        "      print(f\"{'No.':<4} {'Name':<30} {'Price':<7} {'Pages':<6} {'Author':<20} {'Sold':<5}\")\n",
        "      print(\"-\" * 80)\n",
        "      for i, book in enumerate(self.listBooks, start=1):\n",
        "        print(f\"{i:<4} {book.name:<30} {book.price:<7} {book.pages:<6} {book.author:<20} {str(book.isSold):<5}\")\n",
        "      return self.listBooks\n",
        "\n",
        "    def addNewBook(self, book):\n",
        "        self.listBooks.append(book)\n",
        "\n",
        "    def deleteBook(self, bookName):\n",
        "        self.listBooks = list(filter(lambda x: x.name != bookName, self.listBooks))\n",
        "\n",
        "    def addPagesBook(self, nameBook, pages):\n",
        "        self.listBooks = list(\n",
        "            map(\n",
        "                lambda x: Book(\n",
        "                    x.number,\n",
        "                    x.name,\n",
        "                    x.price,\n",
        "                    x.pages + pages if x.name == nameBook else x.pages,\n",
        "                    x.author,\n",
        "                    x.isSold),\n",
        "                self.listBooks\n",
        "            )\n",
        "        )\n",
        "\n",
        "    def sellBook(self, nameBook):\n",
        "        self.listBooks = list(\n",
        "            map(\n",
        "                lambda x: Book(\n",
        "                    x.number,\n",
        "                    x.name,\n",
        "                    x.price,\n",
        "                    x.pages,\n",
        "                    x.author,\n",
        "                    True if x.name == nameBook else False),\n",
        "                self.listBooks\n",
        "            ))\n",
        "\n",
        "library = Library(\n",
        "    [\n",
        "        Book(1, \"peppa pig\", 100, 50, \"juan gabriel\", False),\n",
        "        Book(2, \"francisco del sesus\", 100, 60, \"juan gabriel\", False),\n",
        "        Book(3, \"el despistado\", 100, 55, \"juan gabriel\", False),\n",
        "        Book(4, \"santiago hermoso\", 100, 65, \"juan gabriel\", False),\n",
        "        Book(5, \"peppa pig 2\", 100, 45, \"juan gabriel\", False),\n",
        "        Book(6, \"francisco del sesus 2\", 100, 35, \"juan gabriel\", False),\n",
        "        Book(7, \"el despistado 2\", 100, 40, \"juan gabriel\", False),\n",
        "        Book(8, \"santiago hermoso 2\", 100, 38, \"juan gabriel\", False),\n",
        "    ]\n",
        ")\n",
        "\n",
        "library.addNewBook(Book(9, \"santiago hermoso la pelicula\", 100, 70, \"juan gabriel\", False))\n",
        "\n",
        "print(\"BEFORE ADDING PAGES\")\n",
        "library.getList()\n",
        "print(\"//////////////////\")\n",
        "\n",
        "library.addPagesBook(\"peppa pig\", 1000)\n",
        "library.sellBook(\"peppa pig\")\n",
        "print(\"AFTER ADDING PAGES TO 'peppa pig'\")\n",
        "library.getList()"
      ]
    },
    {
      "cell_type": "code",
      "source": [
        "# Pruebas unitarias usando unittest en Colab\n",
        "import unittest\n",
        "class TestLibrary(unittest.TestCase):\n",
        "\n",
        "    def setUp(self):\n",
        "        self.book1 = Book(1, \"Book A\", 100, 50, \"Author 1\", False)\n",
        "        self.book2 = Book(2, \"Book B\", 150, 70, \"Author 2\", False)\n",
        "        self.library = Library([self.book1, self.book2])\n",
        "\n",
        "    def test_add_new_book(self):\n",
        "        new_book = Book(3, \"Book C\", 120, 60, \"Author 3\", False)\n",
        "        self.library.addNewBook(new_book)\n",
        "        self.assertIn(new_book, self.library.getList())\n",
        "        self.assertEqual(len(self.library.getList()), 3)\n",
        "\n",
        "    def test_delete_book(self):\n",
        "        self.library.deleteBook(\"Book A\")\n",
        "        self.assertEqual(len(self.library.getList()), 1)\n",
        "        self.assertNotIn(self.book1, self.library.getList())\n",
        "\n",
        "    def test_add_pages_book(self):\n",
        "        self.library.addPagesBook(\"Book A\", 30)\n",
        "        updated_book = self.library.getList()[0]\n",
        "        self.assertEqual(updated_book.pages, 80)\n",
        "\n",
        "    def test_sell_book(self):\n",
        "        self.library.sellBook(\"Book A\")\n",
        "        updated_book = self.library.getList()[0]\n",
        "        self.assertTrue(updated_book.isSold)\n",
        "\n",
        "    def test_get_list_returns_all_books(self):\n",
        "        books = self.library.getList()\n",
        "        self.assertEqual(len(books), 2)\n",
        "        self.assertIn(self.book1, books)\n",
        "        self.assertIn(self.book2, books)\n",
        "\n",
        "# Ejecutar pruebas directamente en Colab\n",
        "unittest.TextTestRunner().run(unittest.TestLoader().loadTestsFromTestCase(TestLibrary))\n"
      ],
      "metadata": {
        "colab": {
          "base_uri": "https://localhost:8080/"
        },
        "id": "O5viYJwi5LJP",
        "outputId": "b3d24873-d8b5-401e-d648-c17c511b8a36"
      },
      "execution_count": 64,
      "outputs": [
        {
          "output_type": "stream",
          "name": "stderr",
          "text": [
            ".....\n",
            "----------------------------------------------------------------------\n",
            "Ran 5 tests in 0.005s\n",
            "\n",
            "OK\n"
          ]
        },
        {
          "output_type": "stream",
          "name": "stdout",
          "text": [
            "No.  Name                           Price   Pages  Author               Sold \n",
            "--------------------------------------------------------------------------------\n",
            "1    Book A                         100     50     Author 1             False\n",
            "2    Book B                         150     70     Author 2             False\n",
            "3    Book C                         120     60     Author 3             False\n",
            "No.  Name                           Price   Pages  Author               Sold \n",
            "--------------------------------------------------------------------------------\n",
            "1    Book A                         100     50     Author 1             False\n",
            "2    Book B                         150     70     Author 2             False\n",
            "3    Book C                         120     60     Author 3             False\n",
            "No.  Name                           Price   Pages  Author               Sold \n",
            "--------------------------------------------------------------------------------\n",
            "1    Book A                         100     80     Author 1             False\n",
            "2    Book B                         150     70     Author 2             False\n",
            "No.  Name                           Price   Pages  Author               Sold \n",
            "--------------------------------------------------------------------------------\n",
            "1    Book B                         150     70     Author 2             False\n",
            "No.  Name                           Price   Pages  Author               Sold \n",
            "--------------------------------------------------------------------------------\n",
            "1    Book B                         150     70     Author 2             False\n",
            "No.  Name                           Price   Pages  Author               Sold \n",
            "--------------------------------------------------------------------------------\n",
            "1    Book A                         100     50     Author 1             False\n",
            "2    Book B                         150     70     Author 2             False\n",
            "No.  Name                           Price   Pages  Author               Sold \n",
            "--------------------------------------------------------------------------------\n",
            "1    Book A                         100     50     Author 1             True \n",
            "2    Book B                         150     70     Author 2             False\n"
          ]
        },
        {
          "output_type": "execute_result",
          "data": {
            "text/plain": [
              "<unittest.runner.TextTestResult run=5 errors=0 failures=0>"
            ]
          },
          "metadata": {},
          "execution_count": 64
        }
      ]
    }
  ]
}