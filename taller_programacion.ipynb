{
  "nbformat": 4,
  "nbformat_minor": 0,
  "metadata": {
    "colab": {
      "provenance": [],
      "authorship_tag": "ABX9TyMmUvJuXLauz6urPmaoaery",
      "include_colab_link": true
    },
    "kernelspec": {
      "name": "python3",
      "display_name": "Python 3"
    },
    "language_info": {
      "name": "python"
    }
  },
  "cells": [
    {
      "cell_type": "markdown",
      "metadata": {
        "id": "view-in-github",
        "colab_type": "text"
      },
      "source": [
        "<a href=\"https://colab.research.google.com/github/santiom8/TallerPython/blob/main/taller_programacion.ipynb\" target=\"_parent\"><img src=\"https://colab.research.google.com/assets/colab-badge.svg\" alt=\"Open In Colab\"/></a>"
      ]
    },
    {
      "cell_type": "code",
      "execution_count": 45,
      "metadata": {
        "colab": {
          "base_uri": "https://localhost:8080/"
        },
        "id": "AlCgMkqrh8F6",
        "outputId": "305338f7-34fd-48da-f6bc-651e20adfc88"
      },
      "outputs": [
        {
          "output_type": "stream",
          "name": "stdout",
          "text": [
            "BEFORE ADDING PAGES\n",
            "peppa pig - 50 pages\n",
            "francisco del sesus - 60 pages\n",
            "el despistado - 55 pages\n",
            "santiago hermoso - 65 pages\n",
            "peppa pig 2 - 45 pages\n",
            "francisco del sesus 2 - 35 pages\n",
            "el despistado 2 - 40 pages\n",
            "santiago hermoso 2 - 38 pages\n",
            "santiago hermoso la pelicula - 70 pages\n",
            "//////////////////\n",
            "AFTER ADDING PAGES TO 'peppa pig'\n",
            "peppa pig - 1050 pages\n",
            "francisco del sesus - 60 pages\n",
            "el despistado - 55 pages\n",
            "santiago hermoso - 65 pages\n",
            "peppa pig 2 - 45 pages\n",
            "francisco del sesus 2 - 35 pages\n",
            "el despistado 2 - 40 pages\n",
            "santiago hermoso 2 - 38 pages\n",
            "santiago hermoso la pelicula - 70 pages\n"
          ]
        }
      ],
      "source": [
        "from typing import List\n",
        "\n",
        "# books application\n",
        "class Book:\n",
        "    def __init__(self, number, name, price, pages, author, isSold):\n",
        "        self.number = number\n",
        "        self.name = name\n",
        "        self.price = price\n",
        "        self.pages = pages\n",
        "        self.author = author\n",
        "        self.isSold = isSold\n",
        "\n",
        "    def __repr__(self):\n",
        "        return f\"{self.name} - {self.pages} pages\"\n",
        "\n",
        "\n",
        "class Library:\n",
        "    def __init__(self, listBooks):\n",
        "        self.listBooks = listBooks\n",
        "\n",
        "    def getList(self):\n",
        "        for i in self.listBooks:\n",
        "            print(i)\n",
        "\n",
        "    def addNewBook(self, book):\n",
        "        self.listBooks.append(book)\n",
        "\n",
        "    def deleteBook(self, bookName):\n",
        "        self.listBooks = list(filter(lambda x: x.name != bookName, self.listBooks))\n",
        "\n",
        "    def addPagesBook(self, nameBook, pages):\n",
        "        self.listBooks = list(\n",
        "            map(\n",
        "                lambda x: Book(\n",
        "                    x.number,\n",
        "                    x.name,\n",
        "                    x.price,\n",
        "                    x.pages + pages if x.name == nameBook else x.pages,\n",
        "                    x.author,\n",
        "                    x.isSold),\n",
        "                self.listBooks\n",
        "            )\n",
        "        )\n",
        "\n",
        "\n",
        "library = Library(\n",
        "    [\n",
        "        Book(1, \"peppa pig\", 100, 50, \"juan gabriel\", False),\n",
        "        Book(2, \"francisco del sesus\", 100, 60, \"juan gabriel\", False),\n",
        "        Book(3, \"el despistado\", 100, 55, \"juan gabriel\", False),\n",
        "        Book(4, \"santiago hermoso\", 100, 65, \"juan gabriel\", False),\n",
        "        Book(5, \"peppa pig 2\", 100, 45, \"juan gabriel\", False),\n",
        "        Book(6, \"francisco del sesus 2\", 100, 35, \"juan gabriel\", False),\n",
        "        Book(7, \"el despistado 2\", 100, 40, \"juan gabriel\", False),\n",
        "        Book(8, \"santiago hermoso 2\", 100, 38, \"juan gabriel\", False),\n",
        "    ]\n",
        ")\n",
        "\n",
        "library.addNewBook(Book(9, \"santiago hermoso la pelicula\", 100, 70, \"juan gabriel\", False))\n",
        "\n",
        "print(\"BEFORE ADDING PAGES\")\n",
        "library.getList()\n",
        "print(\"//////////////////\")\n",
        "\n",
        "library.addPagesBook(\"peppa pig\", 1000)\n",
        "\n",
        "print(\"AFTER ADDING PAGES TO 'peppa pig'\")\n",
        "library.getList()\n"
      ]
    }
  ]
}